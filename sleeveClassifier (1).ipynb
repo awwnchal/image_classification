{
 "cells": [
  {
   "cell_type": "code",
   "execution_count": null,
   "id": "fa67cfcc-4068-4d37-8179-c15760a4e6fb",
   "metadata": {},
   "outputs": [],
   "source": [
    "import matplotlib.pyplot as plt\n",
    "import tensorflow_hub as hub\n",
    "import tensorflow as tf\n",
    "import os\n",
    "import shutil\n",
    "\n",
    "from tensorflow.keras.preprocessing import image_dataset_from_directory\n",
    "from tensorflow.keras.models import Sequential\n",
    "from tensorflow.keras import layers\n",
    "from tensorflow.keras.callbacks import ModelCheckpoint, EarlyStopping\n",
    "from tensorflow.data.experimental import AUTOTUNE\n",
    "from tensorflow import keras"
   ]
  },
  {
   "cell_type": "code",
   "execution_count": null,
   "id": "946145f5-1434-480a-9193-739ab7340a1b",
   "metadata": {},
   "outputs": [],
   "source": [
    "sleeves = ['long', 'invisible', 'elbow', 'short', 'sleeveless']\n",
    "for sleeve in sleeves:\n",
    "    #os.mkdir(f\"sleeve/{sleeve}\")\n",
    "    print(sleeve,\": \",len(os.listdir(f\"sleeve/{sleeve}\")))"
   ]
  },
  {
   "cell_type": "code",
   "execution_count": 81,
   "id": "5a9adbde-4bd8-4f87-8047-8191edfbb082",
   "metadata": {},
   "outputs": [],
   "source": [
    "def dataAug(train_ds, num=5):\n",
    "    aug1 = layers.experimental.preprocessing.RandomFlip(\"horizontal\")\n",
    "    ds_1 = train_ds.map(lambda x, y: (aug1(x), y), num_parallel_calls=AUTOTUNE)\n",
    "    aug2 = layers.experimental.preprocessing.RandomRotation(0.2)\n",
    "    ds_2 = train_ds.map(lambda x, y: (aug2(x), y), num_parallel_calls=AUTOTUNE)\n",
    "    aug3 = layers.RandomContrast(0.4)\n",
    "    ds_3 = train_ds.map(lambda x, y: (aug3(x), y), num_parallel_calls=AUTOTUNE)\n",
    "    aug4 = layers.RandomBrightness(0.4)\n",
    "    ds_4 = train_ds.map(lambda x, y: (aug4(x), y), num_parallel_calls=AUTOTUNE)\n",
    "    aug5 = layers.RandomTranslation(0.3, 0.3)\n",
    "    ds_5 = train_ds.map(lambda x, y: (aug5(x), y), num_parallel_calls=AUTOTUNE)\n",
    "    for i in range(num):\n",
    "        train_ds = train_ds.concatenate(locals()[f'ds_{i+1}'])\n",
    "    train_ds = train_ds.prefetch(buffer_size=AUTOTUNE)\n",
    "    return train_ds"
   ]
  },
  {
   "cell_type": "code",
   "execution_count": 82,
   "id": "f2754d55-bf24-4789-bccd-ecc9a0f9602a",
   "metadata": {},
   "outputs": [],
   "source": [
    "def Split(directory, validation = 0.3, inception = False):  \n",
    "    if inception == False:\n",
    "        IMG_DIM = 224     \n",
    "    else:\n",
    "        IMG_DIM = 299       # for Inception ResNet v2\n",
    "    \n",
    "    BATCH_SIZE = 64\n",
    "\n",
    "    train_ds = image_dataset_from_directory(directory,\n",
    "                                                image_size=(IMG_DIM,IMG_DIM),\n",
    "                                                label_mode=\"categorical\",\n",
    "                                                batch_size=BATCH_SIZE,\n",
    "                                                validation_split = validation,\n",
    "                                                subset=\"training\",\n",
    "                                                seed=117,\n",
    "                                                shuffle=True)\n",
    "\n",
    "    val_ds = image_dataset_from_directory(directory,\n",
    "                                                image_size=(IMG_DIM,IMG_DIM),\n",
    "                                                label_mode=\"categorical\",\n",
    "                                                batch_size=BATCH_SIZE,\n",
    "                                                validation_split = validation,\n",
    "                                                subset=\"validation\",\n",
    "                                                seed=117,\n",
    "                                                shuffle=True)\n",
    "    \n",
    "    \n",
    "\n",
    "    train_ds = train_ds.prefetch(buffer_size=AUTOTUNE)\n",
    "    val_ds = val_ds.prefetch(buffer_size=AUTOTUNE)\n",
    "\n",
    "    return train_ds, val_ds"
   ]
  },
  {
   "cell_type": "code",
   "execution_count": 83,
   "id": "876417fa-871d-475c-8014-d3cca371a9e7",
   "metadata": {},
   "outputs": [],
   "source": [
    "def RUN(train_ds, val_ds, category, inception = False, trainable = False, epoch = 60, earlystop = 10):\n",
    "    ## Build the model\n",
    "    n_classes = train_ds.element_spec[1].shape[-1]\n",
    "\n",
    "    if inception == False:\n",
    "        IMG_DIM = 224      # for ResNet v2\n",
    "        basemodel_path = \"https://tfhub.dev/google/imagenet/resnet_v2_50/classification/5\"\n",
    "    else:\n",
    "        IMG_DIM = 299       # for Inception ResNet v2\n",
    "        basemodel_path = \"https://tfhub.dev/google/imagenet/inception_resnet_v2/classification/5\"\n",
    "   \n",
    "    model = Sequential([\n",
    "    \n",
    "        hub.KerasLayer(basemodel_path,\n",
    "        trainable = trainable,\n",
    "        arguments = dict(batch_norm_momentum = 0.997)),\n",
    "        layers.Dropout(0.4),\n",
    "        layers.Flatten(),\n",
    "        layers.Dense(n_classes, activation='softmax')\n",
    "        ])\n",
    "    model.build([None, IMG_DIM, IMG_DIM, 3])\n",
    "    model.summary()\n",
    "\n",
    "    ## Complie the model\n",
    "    model.compile(optimizer='adam',\n",
    "              loss=\"categorical_crossentropy\",     # SparseCategoricalCrossentropy used for interger Yi; CategoricalCrossentropy used for one-hot Yi\n",
    "              metrics=['accuracy'])\n",
    "    \n",
    "    ## Fit the model\n",
    "    epochs = epoch\n",
    "\n",
    "    checkpoint = ModelCheckpoint(f\"weights_{category}.hdf5\", monitor='val_accuracy', mode=\"max\", verbose = 1, save_best_only=True)\n",
    "    early_stopping = EarlyStopping(monitor='val_accuracy', patience=earlystop)\n",
    "    callback_list = [checkpoint, early_stopping]\n",
    "\n",
    "    history = model.fit(\n",
    "    train_ds,\n",
    "    validation_data=val_ds,\n",
    "    epochs=epochs,\n",
    "    callbacks=callback_list\n",
    "    )\n",
    "\n",
    "    return history"
   ]
  },
  {
   "cell_type": "code",
   "execution_count": 84,
   "id": "cd83be73-896a-45d5-a0fb-3004a11dce65",
   "metadata": {},
   "outputs": [],
   "source": [
    "def Continue(train_ds, val_ds, category, model_path, epoch=60, earlystop=10):\n",
    "    model = keras.models.load_model(model_path, custom_objects={'KerasLayer':hub.KerasLayer})\n",
    "    model.summary()\n",
    "\n",
    "    ## Complie the model\n",
    "    model.compile(optimizer='adam',\n",
    "              loss=\"categorical_crossentropy\",     # SparseCategoricalCrossentropy used for interger Yi; CategoricalCrossentropy used for one-hot Yi\n",
    "              metrics=['accuracy'])\n",
    "    \n",
    "    ## Fit the model\n",
    "    epochs = epoch\n",
    "\n",
    "    checkpoint = ModelCheckpoint(f\"weights_{category}.hdf5\", monitor='val_accuracy', mode=\"max\", verbose = 1, save_best_only=True)\n",
    "    early_stopping = EarlyStopping(monitor='val_accuracy', patience=earlystop)\n",
    "    callback_list = [checkpoint, early_stopping]\n",
    "\n",
    "    history = model.fit(\n",
    "    train_ds,\n",
    "    validation_data=val_ds,\n",
    "    epochs=epochs,\n",
    "    callbacks=callback_list\n",
    "    )\n",
    "\n",
    "    return history"
   ]
  },
  {
   "cell_type": "code",
   "execution_count": 85,
   "id": "dc7e07f4-2c36-4b14-a237-9cd8f7095447",
   "metadata": {},
   "outputs": [],
   "source": [
    "def Vis(category, *history):\n",
    "    acc=[]\n",
    "    val_acc=[]\n",
    "    loss=[]\n",
    "    val_loss=[]\n",
    "    \n",
    "    for hist in history:\n",
    "        acc.append(hist.history['accuracy'])\n",
    "        val_acc.append(hist.history['val_accuracy'])\n",
    "        loss.append(hist.history['loss'])\n",
    "        val_loss.append(hist.history['val_loss'])\n",
    "\n",
    "    epochs_range = range(len(acc))\n",
    "\n",
    "    plt.figure(figsize=(16, 8))\n",
    "    plt.subplot(1, 2, 1)\n",
    "    plt.plot(epochs_range, acc, label='Training Accuracy')\n",
    "    plt.plot(epochs_range, val_acc, label='Validation Accuracy')\n",
    "    plt.legend(loc='lower right')\n",
    "    plt.title(f'{category}: Training and Validation Accuracy')\n",
    "\n",
    "    plt.subplot(1, 2, 2)\n",
    "    plt.plot(epochs_range, loss, label='Training Loss')\n",
    "    plt.plot(epochs_range, val_loss, label='Validation Loss')\n",
    "    plt.legend(loc='upper right')\n",
    "    plt.title(f'{category}: Training and Validation Loss')\n",
    "    plt.savefig(f'{category}.png')\n",
    "    plt.show()\n"
   ]
  },
  {
   "cell_type": "code",
   "execution_count": 75,
   "id": "4d1c370c-1224-467c-931c-1ff3592ca02e",
   "metadata": {},
   "outputs": [
    {
     "name": "stdout",
     "output_type": "stream",
     "text": [
      "Found 26464 files belonging to 5 classes.\n",
      "Using 15879 files for training.\n",
      "Found 26464 files belonging to 5 classes.\n",
      "Using 10585 files for validation.\n"
     ]
    }
   ],
   "source": [
    "print_train, print_val = Split('sleeve', 0.4)"
   ]
  },
  {
   "cell_type": "code",
   "execution_count": 76,
   "id": "e2d7202f-a3a9-408a-9ece-dc7c8d79cb75",
   "metadata": {},
   "outputs": [
    {
     "name": "stdout",
     "output_type": "stream",
     "text": [
      "249\n",
      "166\n"
     ]
    }
   ],
   "source": [
    "print(len(print_train))\n",
    "print(len(print_val))"
   ]
  },
  {
   "cell_type": "code",
   "execution_count": 77,
   "id": "4496177e-9b23-4bb5-aefd-52f6ff38188c",
   "metadata": {},
   "outputs": [
    {
     "name": "stdout",
     "output_type": "stream",
     "text": [
      "1494\n"
     ]
    }
   ],
   "source": [
    "print_train = dataAug(print_train, 5)\n",
    "#print_val = dataAug(print_val, 3)\n",
    "print(len(print_train))\n",
    "#print(len(print_val))"
   ]
  },
  {
   "cell_type": "code",
   "execution_count": null,
   "id": "ba2cb48b-c6fe-4e27-8142-97e6fd125a07",
   "metadata": {},
   "outputs": [],
   "source": []
  },
  {
   "cell_type": "code",
   "execution_count": null,
   "id": "7d0ff9dc-7314-4641-bddb-ff99b612672e",
   "metadata": {},
   "outputs": [],
   "source": [
    "model.save(\"print_model_aug\")"
   ]
  },
  {
   "cell_type": "code",
   "execution_count": 57,
   "id": "99258ea9-a849-41a4-9480-c437aeead1d8",
   "metadata": {},
   "outputs": [
    {
     "ename": "TypeError",
     "evalue": "weight_decay is not a valid argument, kwargs should be empty  for `optimizer_experimental.Optimizer`.",
     "output_type": "error",
     "traceback": [
      "\u001b[0;31m---------------------------------------------------------------------------\u001b[0m",
      "\u001b[0;31mTypeError\u001b[0m                                 Traceback (most recent call last)",
      "\u001b[0;32m/var/tmp/ipykernel_7036/4082918747.py\u001b[0m in \u001b[0;36m<module>\u001b[0;34m\u001b[0m\n\u001b[0;32m----> 1\u001b[0;31m \u001b[0mmodel\u001b[0m \u001b[0;34m=\u001b[0m \u001b[0mkeras\u001b[0m\u001b[0;34m.\u001b[0m\u001b[0mmodels\u001b[0m\u001b[0;34m.\u001b[0m\u001b[0mload_model\u001b[0m\u001b[0;34m(\u001b[0m\u001b[0;34m\"weights_sleeve_Design.hdf5\"\u001b[0m\u001b[0;34m,\u001b[0m \u001b[0mcustom_objects\u001b[0m\u001b[0;34m=\u001b[0m\u001b[0;34m{\u001b[0m\u001b[0;34m'KerasLayer'\u001b[0m\u001b[0;34m:\u001b[0m\u001b[0mhub\u001b[0m\u001b[0;34m.\u001b[0m\u001b[0mKerasLayer\u001b[0m\u001b[0;34m}\u001b[0m\u001b[0;34m)\u001b[0m\u001b[0;34m\u001b[0m\u001b[0;34m\u001b[0m\u001b[0m\n\u001b[0m\u001b[1;32m      2\u001b[0m \u001b[0mmodel\u001b[0m\u001b[0;34m.\u001b[0m\u001b[0msummary\u001b[0m\u001b[0;34m(\u001b[0m\u001b[0;34m)\u001b[0m\u001b[0;34m\u001b[0m\u001b[0;34m\u001b[0m\u001b[0m\n",
      "\u001b[0;32m/opt/conda/lib/python3.7/site-packages/keras/utils/traceback_utils.py\u001b[0m in \u001b[0;36merror_handler\u001b[0;34m(*args, **kwargs)\u001b[0m\n\u001b[1;32m     68\u001b[0m             \u001b[0;31m# To get the full stack trace, call:\u001b[0m\u001b[0;34m\u001b[0m\u001b[0;34m\u001b[0m\u001b[0;34m\u001b[0m\u001b[0m\n\u001b[1;32m     69\u001b[0m             \u001b[0;31m# `tf.debugging.disable_traceback_filtering()`\u001b[0m\u001b[0;34m\u001b[0m\u001b[0;34m\u001b[0m\u001b[0;34m\u001b[0m\u001b[0m\n\u001b[0;32m---> 70\u001b[0;31m             \u001b[0;32mraise\u001b[0m \u001b[0me\u001b[0m\u001b[0;34m.\u001b[0m\u001b[0mwith_traceback\u001b[0m\u001b[0;34m(\u001b[0m\u001b[0mfiltered_tb\u001b[0m\u001b[0;34m)\u001b[0m \u001b[0;32mfrom\u001b[0m \u001b[0;32mNone\u001b[0m\u001b[0;34m\u001b[0m\u001b[0;34m\u001b[0m\u001b[0m\n\u001b[0m\u001b[1;32m     71\u001b[0m         \u001b[0;32mfinally\u001b[0m\u001b[0;34m:\u001b[0m\u001b[0;34m\u001b[0m\u001b[0;34m\u001b[0m\u001b[0m\n\u001b[1;32m     72\u001b[0m             \u001b[0;32mdel\u001b[0m \u001b[0mfiltered_tb\u001b[0m\u001b[0;34m\u001b[0m\u001b[0;34m\u001b[0m\u001b[0m\n",
      "\u001b[0;32m/opt/conda/lib/python3.7/site-packages/keras/optimizers/optimizer_experimental/optimizer.py\u001b[0m in \u001b[0;36m_process_kwargs\u001b[0;34m(self, kwargs)\u001b[0m\n\u001b[1;32m    114\u001b[0m             \u001b[0;32melse\u001b[0m\u001b[0;34m:\u001b[0m\u001b[0;34m\u001b[0m\u001b[0;34m\u001b[0m\u001b[0m\n\u001b[1;32m    115\u001b[0m                 raise TypeError(\n\u001b[0;32m--> 116\u001b[0;31m                     \u001b[0;34mf\"{k} is not a valid argument, kwargs should be empty \"\u001b[0m\u001b[0;34m\u001b[0m\u001b[0;34m\u001b[0m\u001b[0m\n\u001b[0m\u001b[1;32m    117\u001b[0m                     \u001b[0;34m\" for `optimizer_experimental.Optimizer`.\"\u001b[0m\u001b[0;34m\u001b[0m\u001b[0;34m\u001b[0m\u001b[0m\n\u001b[1;32m    118\u001b[0m                 )\n",
      "\u001b[0;31mTypeError\u001b[0m: weight_decay is not a valid argument, kwargs should be empty  for `optimizer_experimental.Optimizer`."
     ]
    }
   ],
   "source": [
    "model = keras.models.load_model(\"weights_Print_Design.hdf5\", custom_objects={'KerasLayer':hub.KerasLayer})\n",
    "model.summary()"
   ]
  },
  {
   "cell_type": "code",
   "execution_count": null,
   "id": "68b36be1-2704-46a7-a6c8-7158ed90f90b",
   "metadata": {},
   "outputs": [],
   "source": [
    "shutil.make_archive(\"print_model_aug\", \"zip\", \"print_model_aug\")"
   ]
  },
  {
   "cell_type": "code",
   "execution_count": null,
   "id": "5648080b-632a-4e49-96c7-831ffdc98261",
   "metadata": {},
   "outputs": [],
   "source": [
    "print_hist = Continue(print_train, print_val, 'Print', \"weights_Print.hdf5\", 50, 15)"
   ]
  },
  {
   "cell_type": "code",
   "execution_count": null,
   "id": "b26e8052-4833-430e-94ef-525b9f8f2873",
   "metadata": {},
   "outputs": [],
   "source": [
    "print_hist = RUN(print_train, print_val, 'Print_1', inception = False, trainable = True, epoch = 50, earlystop = 15)"
   ]
  },
  {
   "cell_type": "code",
   "execution_count": null,
   "id": "de8c290f-5767-439f-831a-c3aae72720f9",
   "metadata": {},
   "outputs": [],
   "source": [
    "RUN(train_ds, val_ds, category, inception = False, trainable = False, epoch = 60, earlystop = 10):"
   ]
  },
  {
   "cell_type": "code",
   "execution_count": null,
   "id": "18384170-c413-4b27-800e-01e552165a0b",
   "metadata": {},
   "outputs": [],
   "source": []
  }
 ],
 "metadata": {
  "environment": {
   "kernel": "python3",
   "name": "tf2-gpu.2-10.m108",
   "type": "gcloud",
   "uri": "gcr.io/deeplearning-platform-release/tf2-gpu.2-10:m108"
  },
  "kernelspec": {
   "display_name": "Python 3 (ipykernel)",
   "language": "python",
   "name": "python3"
  },
  "language_info": {
   "codemirror_mode": {
    "name": "ipython",
    "version": 3
   },
   "file_extension": ".py",
   "mimetype": "text/x-python",
   "name": "python",
   "nbconvert_exporter": "python",
   "pygments_lexer": "ipython3",
   "version": "3.7.12"
  }
 },
 "nbformat": 4,
 "nbformat_minor": 5
}
